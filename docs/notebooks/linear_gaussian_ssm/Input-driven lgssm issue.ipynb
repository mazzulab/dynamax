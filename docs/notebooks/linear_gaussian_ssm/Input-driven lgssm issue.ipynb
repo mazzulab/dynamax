{
 "cells": [
  {
   "cell_type": "markdown",
   "metadata": {},
   "source": [
    "**Linear Gaussian SSM**\n",
    "\n",
    "This is a LinearGaussianSSM where the latent dynamics are linear, but the emissions depend on the product of the latent variable (weights) times the input, which we achieve by taking **time-varying emission weights**.\n",
    "$$\n",
    "dynamics: \\qquad w_t=Fw_{t-1}+b+\\epsilon_t\\ , P(w_t|w_{t-1})=N(w_t|Fw_{t-1}+b,Q)\n",
    "$$\n",
    "\n",
    "$$\n",
    "emission: \\qquad y_t=H_t w_t \\ , P(y_t|z_t)=N(y_t|H_tw_t+d,R)\n",
    "$$\n",
    "\n",
    "where the time-dependent emissions weights $H_t=x_t$ represent input variables. We closely follow the notebook [Online linear regression using Kalman filtering](https://probml.github.io/dynamax/notebooks/linear_gaussian_ssm/kf_linreg.html)."
   ]
  },
  {
   "cell_type": "code",
   "execution_count": 1,
   "metadata": {},
   "outputs": [
    {
     "name": "stdout",
     "output_type": "stream",
     "text": [
      "cpu\n",
      "[CpuDevice(id=0)]\n"
     ]
    }
   ],
   "source": [
    "import dynamax\n",
    "\n",
    "from jax import numpy as jnp\n",
    "from jax import random as jr\n",
    "import jax\n",
    "# from matplotlib import pyplot as plt\n",
    "\n",
    "from ssm.util import random_rotation, find_permutation\n",
    "from dynamax.utils.plotting import  plot_uncertainty_ellipses\n",
    "from dynamax.linear_gaussian_ssm import ParamsLGSSM, LinearGaussianSSM\n",
    "from itertools import count\n",
    "\n",
    "from jax.lib import xla_bridge\n",
    "\n",
    "# print(jaxlib.version.version)\n",
    "print(xla_bridge.get_backend().platform)\n",
    "print(jax.devices())\n",
    "\n",
    "from matplotlib import pyplot as plt\n"
   ]
  },
  {
   "cell_type": "code",
   "execution_count": 3,
   "metadata": {},
   "outputs": [],
   "source": [
    "def plot_learning_curve(marginal_lls, true_model, true_params, test_model, test_params, emissions):\n",
    "    plt.figure()\n",
    "    plt.xlabel(\"iteration\")\n",
    "    nsteps = len(marginal_lls)\n",
    "    plt.plot(marginal_lls, label=\"estimated\")\n",
    "    if len(true_model)>0:\n",
    "        true_logjoint = (true_model.log_prior(true_params) + true_model.marginal_log_prob(true_params, emissions))\n",
    "        plt.axhline(true_logjoint, color = 'k', linestyle = ':', label=\"true\")\n",
    "    plt.ylabel(\"marginal joint probability\")\n",
    "    plt.legend()\n",
    "\n",
    "def print_params_lgssm(params):\n",
    "    jnp.set_printoptions(formatter={'float': lambda x: \"{0:0.3f}\".format(x)})\n",
    "    print(\"initial mean:\")\n",
    "    print(params.initial.mean)        \n",
    "    print(\"initial cov:\")\n",
    "    print(params.initial.cov)\n",
    "    print(\"dynamics weights F:\")\n",
    "    print(params.dynamics.weights)\n",
    "    print(\"dynamics bias b:\")\n",
    "    print(params.dynamics.bias)\n",
    "    print(\"dynamics cov Q:\")\n",
    "    print(params.dynamics.cov)\n",
    "    print(\"emission cov R:\")\n",
    "    print(params.emissions.cov) # since num_emissions = 1\n",
    "    print(\"emission weights H dimension: [num_timesteps,1,emission_dim]\")\n",
    "    print(params.emissions.weights.shape) # since num_emissions = 1    \n",
    "    if len(params.emissions.weights.shape)==3:\n",
    "        print(\"emission weights H_t: first 3 steps\")\n",
    "        print(params.emissions.weights[:3, 0, :]) # since num_emissions = 1\n",
    "    else:\n",
    "        print(\"emission weights H:\")\n",
    "        print(params.emissions.weights) # since num_emissions = 1\n",
    "        "
   ]
  },
  {
   "cell_type": "markdown",
   "metadata": {},
   "source": [
    "**First issue: sampling**\n",
    "\n",
    "We first set by hand the model parameters, and then sample data from the model with time-varying emission weights H_t. It should generate emissions with dimension (num_timesteps,emission_dim) but instead it generates emissions with dimension (num_timesteps,num_timesteps,emission_dim)."
   ]
  },
  {
   "cell_type": "code",
   "execution_count": 4,
   "metadata": {},
   "outputs": [
    {
     "name": "stdout",
     "output_type": "stream",
     "text": [
      "initial mean:\n",
      "[0.000 0.000]\n",
      "initial cov:\n",
      "[[10.000 0.000]\n",
      " [0.000 10.000]]\n",
      "dynamics weights F:\n",
      "[[1.000 0.000]\n",
      " [0.000 1.000]]\n",
      "dynamics bias b:\n",
      "[0.000 0.000]\n",
      "dynamics cov Q:\n",
      "[[1.000 1.000]\n",
      " [1.000 1.000]]\n",
      "emission cov R:\n",
      "[[1.000]]\n",
      "emission weights H dimension: [num_timesteps,1,emission_dim]\n",
      "(100, 1, 2)\n",
      "emission weights H_t: first 3 steps\n",
      "[[0.000 1.000]\n",
      " [0.051 1.000]\n",
      " [0.101 1.000]]\n",
      "latents shape:\n",
      "(100, 2)\n",
      "emissions shape:\n",
      "(100, 100, 1)\n"
     ]
    }
   ],
   "source": [
    "n_obs = 100\n",
    "x = jnp.linspace(0, 5, n_obs) # input values\n",
    "X = jnp.column_stack((x,jnp.ones_like(x)))  # Design matrix = time-dependent emission weights\n",
    "# y = jnp.array(\n",
    "    # [2.486, -0.303, -4.053, -4.336, -6.174, -5.604, -3.507, -2.326, -4.638, -0.233, -1.986, 1.028, -2.264,\n",
    "    #  -0.451, 1.167, 6.652, 4.145, 5.268, 6.34, 9.626, 14.784]) \n",
    "\n",
    "# simplest model from dynamax_kf_linreg\n",
    "F = jnp.eye(2) # dynamics\n",
    "Q = jnp.ones((2, 2))  # dynamics cov\n",
    "obs_var = 1.0\n",
    "R = jnp.ones((1, 1)) * obs_var  # emission cov\n",
    "mu0 = jnp.zeros(2) # initial distribution\n",
    "Sigma0 = jnp.eye(2) * 10.0 # initial distribution\n",
    "\n",
    "keys = map(jr.PRNGKey, count())\n",
    "\n",
    "\n",
    "# the input_dim = 0 since we encode the covariates into the non-stationary emission matrix\n",
    "lgssm = LinearGaussianSSM(state_dim = 2, emission_dim = 1, input_dim = 0)\n",
    "em_params, em_param_props = lgssm.initialize(\n",
    "    initial_mean=mu0,\n",
    "    initial_covariance=Sigma0,\n",
    "    dynamics_weights=F,\n",
    "    dynamics_covariance=Q,\n",
    "    emission_weights=X[:, None, :], # (t, 1, D) where D = num input features\n",
    "    emission_covariance=R,\n",
    "    )\n",
    "print_params_lgssm(em_params)\n",
    "\n",
    "data_latent,data_obs=lgssm.sample(em_params,next(keys),num_timesteps=n_obs)\n",
    "\n",
    "print('latents shape:')\n",
    "print(data_latent.shape)\n",
    "print('emissions shape:')\n",
    "print(data_obs.shape)\n",
    "\n",
    "# # Plot Data\n",
    "# emissions=data_obs\n",
    "# latents=data_latent\n",
    "# (nsteps,emi1,emi2)=emissions.shape\n",
    "# state_dim=len(latents[0])\n",
    "# # Plot the true states and emissions\n",
    "# fig, ax = plt.subplots(2,1,figsize=(10, 8))\n",
    "# for i in range(state_dim):\n",
    "#     ax[0].plot(latents[:][i] + i * jnp.arange(state_dim))\n",
    "# # ax[1].plot(emissions + 3 * jnp.arange(emi1))\n",
    "# ax[0].set_ylabel(\"latents\")\n",
    "# ax[0].set_xlabel(\"time\")\n",
    "# ax[0].set_xlim(0, nsteps - 1)\n",
    "\n"
   ]
  },
  {
   "cell_type": "markdown",
   "metadata": {},
   "source": [
    "**Second issue: inference**\n",
    "\n",
    "We now use given inputs and emissions data, and use lgssm to perform em inference to find the model parameter that generate the data. We use time-varying emission weights H_t initialized to their values and then frozen during inference (Trainable==False). When performing inference using fit_em, somehow the time-varying emissions weights change even though they should be frozen and loose their time dependence!"
   ]
  },
  {
   "cell_type": "code",
   "execution_count": 5,
   "metadata": {},
   "outputs": [
    {
     "name": "stdout",
     "output_type": "stream",
     "text": [
      "initial mean:\n",
      "[0.000 0.000]\n",
      "initial cov:\n",
      "[[1.000 0.000]\n",
      " [0.000 1.000]]\n",
      "dynamics weights F:\n",
      "[[0.990 0.000]\n",
      " [0.000 0.990]]\n",
      "dynamics bias b:\n",
      "0\n",
      "dynamics cov Q:\n",
      "[[0.100 0.000]\n",
      " [0.000 0.100]]\n",
      "emission cov R:\n",
      "[[0.100]]\n",
      "emission weights H dimension: [num_timesteps,1,emission_dim]\n",
      "(21, 1, 2)\n",
      "emission weights H_t: first 3 steps\n",
      "[[0.000 1.000]\n",
      " [1.000 1.000]\n",
      " [2.000 1.000]]\n"
     ]
    },
    {
     "data": {
      "text/html": [
       "\n",
       "<style>\n",
       "    /* Turns off some styling */\n",
       "    progress {\n",
       "        /* gets rid of default border in Firefox and Opera. */\n",
       "        border: none;\n",
       "        /* Needs to be in here for Safari polyfill so background images work as expected. */\n",
       "        background-size: auto;\n",
       "    }\n",
       "    progress:not([value]), progress:not([value])::-webkit-progress-bar {\n",
       "        background: repeating-linear-gradient(45deg, #7e7e7e, #7e7e7e 10px, #5c5c5c 10px, #5c5c5c 20px);\n",
       "    }\n",
       "    .progress-bar-interrupted, .progress-bar-interrupted::-webkit-progress-bar {\n",
       "        background: #F44336;\n",
       "    }\n",
       "</style>\n"
      ],
      "text/plain": [
       "<IPython.core.display.HTML object>"
      ]
     },
     "metadata": {},
     "output_type": "display_data"
    },
    {
     "data": {
      "text/html": [
       "\n",
       "    <div>\n",
       "      <progress value='500' class='' max='500' style='width:300px; height:20px; vertical-align: middle;'></progress>\n",
       "      100.00% [500/500 00:00&lt;00:00]\n",
       "    </div>\n",
       "    "
      ],
      "text/plain": [
       "<IPython.core.display.HTML object>"
      ]
     },
     "metadata": {},
     "output_type": "display_data"
    },
    {
     "name": "stdout",
     "output_type": "stream",
     "text": [
      "initial mean:\n",
      "[-1.681 2.622]\n",
      "initial cov:\n",
      "[[0.000 0.000]\n",
      " [0.000 0.000]]\n",
      "dynamics weights F:\n",
      "[[1.097 -0.184]\n",
      " [-0.096 0.525]]\n",
      "dynamics bias b:\n",
      "[0.324 -0.284]\n",
      "dynamics cov Q:\n",
      "[[0.000 0.000]\n",
      " [0.000 0.002]]\n",
      "emission cov R:\n",
      "[[2.298]]\n",
      "emission weights H dimension: [num_timesteps,1,emission_dim]\n",
      "(1, 2)\n",
      "emission weights H:\n",
      "[[3.067 2.502]]\n"
     ]
    },
    {
     "data": {
      "image/png": "[encoded data removed]",
      "text/plain": [
       "<Figure size 640x480 with 1 Axes>"
      ]
     },
     "metadata": {},
     "output_type": "display_data"
    }
   ],
   "source": [
    "n_obs = 21\n",
    "x = jnp.linspace(0, 20, n_obs) # time dependent weights x_t\n",
    "X = jnp.column_stack((x,jnp.ones_like(x)))  # Design matrix.\n",
    "y = jnp.array(\n",
    "    [2.486, -0.303, -4.053, -4.336, -6.174, -5.604, -3.507, -2.326, -4.638, -0.233, -1.986, 1.028, -2.264,\n",
    "     -0.451, 1.167, 6.652, 4.145, 5.268, 6.34, 9.626, 14.784]) # emissions\n",
    "keys = map(jr.PRNGKey, count())\n",
    "\n",
    "# learn the model parameter that generate the observed dynamics\n",
    "# the input_dim = 0 since we encode the covariates into the non-stationary emission matrix\n",
    "lgssm = LinearGaussianSSM(state_dim = 2, emission_dim = 1, input_dim = 0)\n",
    "params, params_prop = lgssm.initialize(next(keys),\n",
    "    # initial_mean=mu0,\n",
    "    # initial_covariance=Sigma0,\n",
    "    dynamics_bias=0,\n",
    "#     dynamics_weights=F,\n",
    "#     dynamics_covariance=Q,\n",
    "    emission_weights=X[:, None, :], # (t, 1, D) where D = num input features\n",
    "    emission_bias=0,\n",
    "#     emission_covariance=R,\n",
    "    )\n",
    "\n",
    "# Set transition parameters and inital parameters to true values and mark as frozen\n",
    "# params_prop.dynamics.weights.trainable = False\n",
    "params_prop.dynamics.bias.trainable = False\n",
    "params_prop.emissions.weights.trainable = False\n",
    "params_prop.emissions.bias.trainable = False\n",
    "num_iters = 500\n",
    "print_params_lgssm(params)\n",
    "\n",
    "test_params,marginal_lls=lgssm.fit_em(params,params_prop, emissions=y[:, None], num_iters=num_iters)\n",
    "# lgssm.fit_em(params,params_prop, emissions=y[:, None], num_iters=num_iters)\n",
    "plot_learning_curve(marginal_lls, [], [], lgssm, test_params, y)\n",
    "\n",
    "data_latent,data_obs=lgssm.sample(test_params,next(keys), num_timesteps=100)\n",
    "print_params_lgssm(test_params)"
   ]
  },
  {
   "cell_type": "markdown",
   "metadata": {},
   "source": [
    "**Third issue: inference with SGD**\n",
    "\n",
    "We use given inputs and emissions data, and use lgssm to perform **SGD** inference to find the model parameter that generate the data. SGD gives some error message."
   ]
  },
  {
   "cell_type": "code",
   "execution_count": 9,
   "metadata": {},
   "outputs": [
    {
     "name": "stdout",
     "output_type": "stream",
     "text": [
      "initial mean:\n",
      "[0.000 0.000]\n",
      "initial cov:\n",
      "[[1.000 0.000]\n",
      " [0.000 1.000]]\n",
      "dynamics weights F:\n",
      "[[0.990 0.000]\n",
      " [0.000 0.990]]\n",
      "dynamics bias b:\n",
      "0\n",
      "dynamics cov Q:\n",
      "[[0.100 0.000]\n",
      " [0.000 0.100]]\n",
      "emission cov R:\n",
      "[[0.100]]\n",
      "emission weights H dimension: [num_timesteps,1,emission_dim]\n",
      "(21, 1, 2)\n",
      "emission weights H_t: first 3 steps\n",
      "[[0.000 1.000]\n",
      " [1.000 1.000]\n",
      " [2.000 1.000]]\n"
     ]
    },
    {
     "ename": "TypeError",
     "evalue": "grad requires real- or complex-valued inputs (input dtype that is a sub-dtype of np.inexact), but got int32. If you want to use Boolean- or integer-valued inputs, use vjp or set allow_int to True.",
     "output_type": "error",
     "traceback": [
      "\u001b[0;31m---------------------------------------------------------------------------\u001b[0m",
      "\u001b[0;31mTypeError\u001b[0m                                 Traceback (most recent call last)",
      "\u001b[1;32m/Users/mazzu/Library/CloudStorage/Dropbox/neuro/PROJECTS/mainen2/neural/Input-driven lgssm issue.ipynb Cell 9\u001b[0m line \u001b[0;36m3\n\u001b[1;32m     <a href='vscode-notebook-cell:/Users/mazzu/Library/CloudStorage/Dropbox/neuro/PROJECTS/mainen2/neural/Input-driven%20lgssm%20issue.ipynb#X33sZmlsZQ%3D%3D?line=27'>28</a>\u001b[0m num_iters \u001b[39m=\u001b[39m \u001b[39m500\u001b[39m\n\u001b[1;32m     <a href='vscode-notebook-cell:/Users/mazzu/Library/CloudStorage/Dropbox/neuro/PROJECTS/mainen2/neural/Input-driven%20lgssm%20issue.ipynb#X33sZmlsZQ%3D%3D?line=28'>29</a>\u001b[0m print_params_lgssm(params)\n\u001b[0;32m---> <a href='vscode-notebook-cell:/Users/mazzu/Library/CloudStorage/Dropbox/neuro/PROJECTS/mainen2/neural/Input-driven%20lgssm%20issue.ipynb#X33sZmlsZQ%3D%3D?line=30'>31</a>\u001b[0m test_params,marginal_lls\u001b[39m=\u001b[39mlgssm\u001b[39m.\u001b[39;49mfit_sgd(params,params_prop, emissions\u001b[39m=\u001b[39;49my[:, \u001b[39mNone\u001b[39;49;00m], num_epochs\u001b[39m=\u001b[39;49mnum_iters)\n\u001b[1;32m     <a href='vscode-notebook-cell:/Users/mazzu/Library/CloudStorage/Dropbox/neuro/PROJECTS/mainen2/neural/Input-driven%20lgssm%20issue.ipynb#X33sZmlsZQ%3D%3D?line=31'>32</a>\u001b[0m \u001b[39m# lgssm.fit_em(params,params_prop, emissions=y[:, None], num_iters=num_iters)\u001b[39;00m\n\u001b[1;32m     <a href='vscode-notebook-cell:/Users/mazzu/Library/CloudStorage/Dropbox/neuro/PROJECTS/mainen2/neural/Input-driven%20lgssm%20issue.ipynb#X33sZmlsZQ%3D%3D?line=32'>33</a>\u001b[0m plot_learning_curve(marginal_lls, [], [], lgssm, test_params, y)\n",
      "File \u001b[0;32m~/Library/CloudStorage/Dropbox/neuro/PROJECTS/ssm_dynamax/dynamax/dynamax/ssm.py:461\u001b[0m, in \u001b[0;36mSSM.fit_sgd\u001b[0;34m(self, params, props, emissions, inputs, optimizer, batch_size, num_epochs, shuffle, key)\u001b[0m\n\u001b[1;32m    458\u001b[0m     \u001b[39mreturn\u001b[39;00m \u001b[39m-\u001b[39mlp \u001b[39m/\u001b[39m batch_emissions\u001b[39m.\u001b[39msize\n\u001b[1;32m    460\u001b[0m dataset \u001b[39m=\u001b[39m (batch_emissions, batch_inputs)\n\u001b[0;32m--> 461\u001b[0m unc_params, losses \u001b[39m=\u001b[39m run_sgd(_loss_fn,\n\u001b[1;32m    462\u001b[0m                              unc_params,\n\u001b[1;32m    463\u001b[0m                              dataset,\n\u001b[1;32m    464\u001b[0m                              optimizer\u001b[39m=\u001b[39;49moptimizer,\n\u001b[1;32m    465\u001b[0m                              batch_size\u001b[39m=\u001b[39;49mbatch_size,\n\u001b[1;32m    466\u001b[0m                              num_epochs\u001b[39m=\u001b[39;49mnum_epochs,\n\u001b[1;32m    467\u001b[0m                              shuffle\u001b[39m=\u001b[39;49mshuffle,\n\u001b[1;32m    468\u001b[0m                              key\u001b[39m=\u001b[39;49mkey)\n\u001b[1;32m    470\u001b[0m params \u001b[39m=\u001b[39m from_unconstrained(unc_params, props)\n\u001b[1;32m    471\u001b[0m \u001b[39mreturn\u001b[39;00m params, losses\n",
      "File \u001b[0;32m~/Library/CloudStorage/Dropbox/neuro/PROJECTS/ssm_dynamax/dynamax/dynamax/utils/optimize.py:80\u001b[0m, in \u001b[0;36mrun_sgd\u001b[0;34m(loss_fn, params, dataset, optimizer, batch_size, num_epochs, shuffle, key)\u001b[0m\n\u001b[1;32m     77\u001b[0m     \u001b[39mreturn\u001b[39;00m (params, opt_state), avg_loss\n\u001b[1;32m     79\u001b[0m keys \u001b[39m=\u001b[39m jr\u001b[39m.\u001b[39msplit(key, num_epochs)\n\u001b[0;32m---> 80\u001b[0m (params, _), losses \u001b[39m=\u001b[39m lax\u001b[39m.\u001b[39;49mscan(train_step, (params, opt_state), keys)\n\u001b[1;32m     81\u001b[0m \u001b[39mreturn\u001b[39;00m params, losses\n",
      "    \u001b[0;31m[... skipping hidden 9 frame]\u001b[0m\n",
      "File \u001b[0;32m~/Library/CloudStorage/Dropbox/neuro/PROJECTS/ssm_dynamax/dynamax/dynamax/utils/optimize.py:76\u001b[0m, in \u001b[0;36mrun_sgd.<locals>.train_step\u001b[0;34m(carry, key)\u001b[0m\n\u001b[1;32m     73\u001b[0m     \u001b[39mreturn\u001b[39;00m itr \u001b[39m+\u001b[39m \u001b[39m1\u001b[39m, params, opt_state, (avg_loss \u001b[39m*\u001b[39m itr \u001b[39m+\u001b[39m this_loss) \u001b[39m/\u001b[39m (itr \u001b[39m+\u001b[39m \u001b[39m1\u001b[39m)\n\u001b[1;32m     75\u001b[0m init_val \u001b[39m=\u001b[39m (\u001b[39m0\u001b[39m, params, opt_state, \u001b[39m0.0\u001b[39m)\n\u001b[0;32m---> 76\u001b[0m _, params, opt_state, avg_loss \u001b[39m=\u001b[39m lax\u001b[39m.\u001b[39;49mwhile_loop(cond_fun, body_fun, init_val)\n\u001b[1;32m     77\u001b[0m \u001b[39mreturn\u001b[39;00m (params, opt_state), avg_loss\n",
      "    \u001b[0;31m[... skipping hidden 9 frame]\u001b[0m\n",
      "File \u001b[0;32m~/Library/CloudStorage/Dropbox/neuro/PROJECTS/ssm_dynamax/dynamax/dynamax/utils/optimize.py:70\u001b[0m, in \u001b[0;36mrun_sgd.<locals>.train_step.<locals>.body_fun\u001b[0;34m(state)\u001b[0m\n\u001b[1;32m     68\u001b[0m itr, params, opt_state, avg_loss \u001b[39m=\u001b[39m state\n\u001b[1;32m     69\u001b[0m minibatch \u001b[39m=\u001b[39m \u001b[39mnext\u001b[39m(sample_generator)  \u001b[39m## TODO: Does this work inside while_loop??\u001b[39;00m\n\u001b[0;32m---> 70\u001b[0m this_loss, grads \u001b[39m=\u001b[39m loss_grad_fn(params, minibatch)\n\u001b[1;32m     71\u001b[0m updates, opt_state \u001b[39m=\u001b[39m optimizer\u001b[39m.\u001b[39mupdate(grads, opt_state)\n\u001b[1;32m     72\u001b[0m params \u001b[39m=\u001b[39m optax\u001b[39m.\u001b[39mapply_updates(params, updates)\n",
      "    \u001b[0;31m[... skipping hidden 2 frame]\u001b[0m\n",
      "File \u001b[0;32m~/opt/anaconda3/envs/ssm_dynamax/lib/python3.9/site-packages/jax/_src/api.py:771\u001b[0m, in \u001b[0;36m_check_input_dtype_revderiv\u001b[0;34m(name, holomorphic, allow_int, x)\u001b[0m\n\u001b[1;32m    767\u001b[0m \u001b[39mif\u001b[39;00m (dtypes\u001b[39m.\u001b[39missubdtype(aval\u001b[39m.\u001b[39mdtype, dtypes\u001b[39m.\u001b[39mextended) \u001b[39mor\u001b[39;00m\n\u001b[1;32m    768\u001b[0m     dtypes\u001b[39m.\u001b[39missubdtype(aval\u001b[39m.\u001b[39mdtype, np\u001b[39m.\u001b[39minteger) \u001b[39mor\u001b[39;00m\n\u001b[1;32m    769\u001b[0m     dtypes\u001b[39m.\u001b[39missubdtype(aval\u001b[39m.\u001b[39mdtype, np\u001b[39m.\u001b[39mbool_)):\n\u001b[1;32m    770\u001b[0m   \u001b[39mif\u001b[39;00m \u001b[39mnot\u001b[39;00m allow_int:\n\u001b[0;32m--> 771\u001b[0m     \u001b[39mraise\u001b[39;00m \u001b[39mTypeError\u001b[39;00m(\u001b[39mf\u001b[39m\u001b[39m\"\u001b[39m\u001b[39m{\u001b[39;00mname\u001b[39m}\u001b[39;00m\u001b[39m requires real- or complex-valued inputs (input dtype \u001b[39m\u001b[39m\"\u001b[39m\n\u001b[1;32m    772\u001b[0m                     \u001b[39mf\u001b[39m\u001b[39m\"\u001b[39m\u001b[39mthat is a sub-dtype of np.inexact), but got \u001b[39m\u001b[39m{\u001b[39;00maval\u001b[39m.\u001b[39mdtype\u001b[39m.\u001b[39mname\u001b[39m}\u001b[39;00m\u001b[39m. \u001b[39m\u001b[39m\"\u001b[39m\n\u001b[1;32m    773\u001b[0m                     \u001b[39m\"\u001b[39m\u001b[39mIf you want to use Boolean- or integer-valued inputs, use vjp \u001b[39m\u001b[39m\"\u001b[39m\n\u001b[1;32m    774\u001b[0m                     \u001b[39m\"\u001b[39m\u001b[39mor set allow_int to True.\u001b[39m\u001b[39m\"\u001b[39m)\n\u001b[1;32m    775\u001b[0m \u001b[39melif\u001b[39;00m \u001b[39mnot\u001b[39;00m dtypes\u001b[39m.\u001b[39missubdtype(aval\u001b[39m.\u001b[39mdtype, np\u001b[39m.\u001b[39minexact):\n\u001b[1;32m    776\u001b[0m   \u001b[39mraise\u001b[39;00m \u001b[39mTypeError\u001b[39;00m(\u001b[39mf\u001b[39m\u001b[39m\"\u001b[39m\u001b[39m{\u001b[39;00mname\u001b[39m}\u001b[39;00m\u001b[39m requires numerical-valued inputs (input dtype that is a \u001b[39m\u001b[39m\"\u001b[39m\n\u001b[1;32m    777\u001b[0m                   \u001b[39mf\u001b[39m\u001b[39m\"\u001b[39m\u001b[39msub-dtype of np.bool_ or np.number), but got \u001b[39m\u001b[39m{\u001b[39;00maval\u001b[39m.\u001b[39mdtype\u001b[39m.\u001b[39mname\u001b[39m}\u001b[39;00m\u001b[39m.\u001b[39m\u001b[39m\"\u001b[39m)\n",
      "\u001b[0;31mTypeError\u001b[0m: grad requires real- or complex-valued inputs (input dtype that is a sub-dtype of np.inexact), but got int32. If you want to use Boolean- or integer-valued inputs, use vjp or set allow_int to True."
     ]
    }
   ],
   "source": [
    "n_obs = 21\n",
    "x = jnp.linspace(0, 20, n_obs) # time dependent weights x_t\n",
    "X = jnp.column_stack((x,jnp.ones_like(x)))  # Design matrix.\n",
    "y = jnp.array(\n",
    "    [2.486, -0.303, -4.053, -4.336, -6.174, -5.604, -3.507, -2.326, -4.638, -0.233, -1.986, 1.028, -2.264,\n",
    "     -0.451, 1.167, 6.652, 4.145, 5.268, 6.34, 9.626, 14.784]) # emissions\n",
    "keys = map(jr.PRNGKey, count())\n",
    "\n",
    "# learn the model parameter that generate the observed dynamics\n",
    "# the input_dim = 0 since we encode the covariates into the non-stationary emission matrix\n",
    "lgssm = LinearGaussianSSM(state_dim = 2, emission_dim = 1, input_dim = 0)\n",
    "params, params_prop = lgssm.initialize(next(keys),\n",
    "    # initial_mean=mu0,\n",
    "    # initial_covariance=Sigma0,\n",
    "    dynamics_bias=0,\n",
    "#     dynamics_weights=F,\n",
    "#     dynamics_covariance=Q,\n",
    "    emission_weights=X[:, None, :], # (t, 1, D) where D = num input features\n",
    "    emission_bias=0,\n",
    "#     emission_covariance=R,\n",
    "    )\n",
    "\n",
    "# Set transition parameters and inital parameters to true values and mark as frozen\n",
    "# params_prop.dynamics.weights.trainable = False\n",
    "params_prop.dynamics.bias.trainable = False\n",
    "params_prop.emissions.weights.trainable = False\n",
    "params_prop.emissions.bias.trainable = False\n",
    "num_iters = 500\n",
    "print_params_lgssm(params)\n",
    "\n",
    "test_params,marginal_lls=lgssm.fit_sgd(params,params_prop, emissions=y[:, None], num_epochs=num_iters)\n",
    "# lgssm.fit_em(params,params_prop, emissions=y[:, None], num_iters=num_iters)\n",
    "plot_learning_curve(marginal_lls, [], [], lgssm, test_params, y)\n",
    "\n",
    "data_latent,data_obs=lgssm.sample(test_params,next(keys), num_timesteps=100)\n",
    "print_params_lgssm(test_params)"
   ]
  },
  {
   "cell_type": "code",
   "execution_count": null,
   "metadata": {},
   "outputs": [],
   "source": []
  }
 ],
 "metadata": {
  "interpreter": {
   "hash": "d9820b630b875be862b66b07d5862921c0ec71ae4e168b508369c3d78b8dd6e5"
  },
  "kernelspec": {
   "display_name": "Python 3.8.13 ('ssm_conda_mazzu')",
   "language": "python",
   "name": "python3"
  },
  "language_info": {
   "codemirror_mode": {
    "name": "ipython",
    "version": 3
   },
   "file_extension": ".py",
   "mimetype": "text/x-python",
   "name": "python",
   "nbconvert_exporter": "python",
   "pygments_lexer": "ipython3",
   "version": "3.9.18"
  }
 },
 "nbformat": 4,
 "nbformat_minor": 4
}
